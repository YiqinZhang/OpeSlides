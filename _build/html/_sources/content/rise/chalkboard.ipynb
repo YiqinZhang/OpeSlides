{
 "cells": [
  {
   "cell_type": "markdown",
   "metadata": {
    "slideshow": {
     "slide_type": "slide"
    }
   },
   "source": [
    "# Chalkboard"
   ]
  },
  {
   "cell_type": "markdown",
   "metadata": {},
   "source": [
    "You can turn on the *chalkboard* in the notebook metadata with:\n",
    "\n",
    "```css\n",
    "    ...\n",
    "    \"rise\": {\n",
    "      \"enable_chalkboard\": true\n",
    "    }\n",
    "    ...\n",
    "```"
   ]
  },
  {
   "cell_type": "markdown",
   "metadata": {
    "slideshow": {
     "slide_type": "slide"
    },
    "tags": []
   },
   "source": [
    "With the chalkboard reveal plugin, it displays itself with two extra buttons in the lower left area. The first button lets you add free drawings on a blank chalkboard, and the second is to draw on your current slide."
   ]
  },
  {
   "cell_type": "markdown",
   "metadata": {},
   "source": [
    "![](../images/chalkboard.png)"
   ]
  },
  {
   "cell_type": "markdown",
   "metadata": {
    "slideshow": {
     "slide_type": "slide"
    },
    "tags": []
   },
   "source": [
    "## Keyboard commands"
   ]
  },
  {
   "cell_type": "markdown",
   "metadata": {},
   "source": [
    "It also reacts to the following additional keyboard commands:\n",
    "\n",
    "- `[` to turn the whole space into an empty chalkboard\n",
    "\n",
    "- `]` to start adding free drawings to the current slide\n",
    "- `\\` to download chalkboard drawing\n",
    "- `=` to reset chalkboard drawing on the current slide\n",
    "- `-` to clear the chalkboard\n"
   ]
  },
  {
   "cell_type": "markdown",
   "metadata": {
    "slideshow": {
     "slide_type": "slide"
    },
    "tags": []
   },
   "source": [
    "## Eraser"
   ]
  },
  {
   "cell_type": "markdown",
   "metadata": {},
   "source": [
    "Long press the right mouse button can turn on the eraser"
   ]
  },
  {
   "cell_type": "markdown",
   "metadata": {
    "slideshow": {
     "slide_type": "slide"
    },
    "tags": []
   },
   "source": [
    "## Change chalk color"
   ]
  },
  {
   "cell_type": "markdown",
   "metadata": {},
   "source": [
    "You can change color right after you click the chalkboard button and then press the keyboard `s` to switch to the next color and `q` to switch to the previous color. \n",
    "\n",
    "The default chalk color is <font color='grey'>grey</font>. And other color choices are <font color='blue'>blue,</font> <font color='red'>red, </font>\n",
    "<font color='green'>green, </font>\n",
    "<font color='orange'>orange, </font>\n",
    "<font color='purple'>purple, </font> and\n",
    "<font color='yellow'>yellow.</font>"
   ]
  },
  {
   "cell_type": "markdown",
   "metadata": {
    "slideshow": {
     "slide_type": "slide"
    },
    "tags": []
   },
   "source": [
    "If you start writing and want to change to another color, double-click the chalkboard button and then press the keyboard 's' or 'q' to choose the color."
   ]
  },
  {
   "cell_type": "markdown",
   "metadata": {},
   "source": [
    "![](../images/chalk.png)"
   ]
  }
 ],
 "metadata": {
  "celltoolbar": "Slideshow",
  "jupytext": {
   "formats": "ipynb"
  },
  "kernelspec": {
   "display_name": "Python 3 (ipykernel)",
   "language": "python",
   "name": "python3"
  },
  "language_info": {
   "codemirror_mode": {
    "name": "ipython",
    "version": 3
   },
   "file_extension": ".py",
   "mimetype": "text/x-python",
   "name": "python",
   "nbconvert_exporter": "python",
   "pygments_lexer": "ipython3",
   "version": "3.10.4"
  },
  "rise": {
   "autolaunch": true,
   "enable_chalkboard": true,
   "start_slideshow_at": "begining",
   "theme": "black",
   "transition": "slide"
  },
  "toc": {
   "base_numbering": 1,
   "nav_menu": {},
   "number_sections": true,
   "sideBar": true,
   "skip_h1_title": false,
   "title_cell": "Table of Contents",
   "title_sidebar": "Contents",
   "toc_cell": false,
   "toc_position": {},
   "toc_section_display": true,
   "toc_window_display": false
  }
 },
 "nbformat": 4,
 "nbformat_minor": 4
}
