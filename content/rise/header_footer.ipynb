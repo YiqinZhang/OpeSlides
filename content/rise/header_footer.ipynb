{
 "cells": [
  {
   "cell_type": "markdown",
   "metadata": {
    "slideshow": {
     "slide_type": "slide"
    },
    "tags": []
   },
   "source": [
    "# Header & footer"
   ]
  },
  {
   "cell_type": "markdown",
   "metadata": {
    "tags": []
   },
   "source": [
    "```css   \n",
    "    {\n",
    "     ...\n",
    "     \"rise\": {\n",
    "         \"header\": \"<h2>Hello</h2>\",\n",
    "         \"footer\": \"<h3>World!</h3>\"\n",
    "     }\n",
    "    }\n",
    "```"
   ]
  },
  {
   "cell_type": "markdown",
   "metadata": {},
   "source": [
    "Configure the header and footer in the notebook metadata."
   ]
  },
  {
   "cell_type": "markdown",
   "metadata": {
    "slideshow": {
     "slide_type": "slide"
    },
    "tags": []
   },
   "source": [
    "If the slide contents are so large that they cover the header and footer, you should set the \"z-index\" of the header and footer to a bigger value than the present slide section. "
   ]
  },
  {
   "cell_type": "markdown",
   "metadata": {},
   "source": [
    "```css\n",
    "div#rise-overlay, div#rise-header, div#rise-footer{\n",
    "    z-index: 20;\n",
    "}\n",
    "```"
   ]
  },
  {
   "cell_type": "markdown",
   "metadata": {
    "slideshow": {
     "slide_type": "slide"
    },
    "tags": []
   },
   "source": [
    "In our case, set [\"z-index\"](./rise.css#L138) of the header and footer to 20, since \"z-index\" of \"stack present\" is 11 and chalkboard buttons' value is 30."
   ]
  },
  {
   "cell_type": "markdown",
   "metadata": {
    "jp-MarkdownHeadingCollapsed": true,
    "slideshow": {
     "slide_type": "slide"
    },
    "tags": []
   },
   "source": [
    "## Simple approach\n",
    "\n",
    "Copy the [rise.css](./rise.css) to the target notebook file. "
   ]
  },
  {
   "cell_type": "markdown",
   "metadata": {
    "slideshow": {
     "slide_type": "slide"
    },
    "tags": []
   },
   "source": [
    "## Alternatively\n",
    "\n",
    "Copy the module to the custom CSS with the same name as the target notebook file. "
   ]
  },
  {
   "cell_type": "markdown",
   "metadata": {},
   "source": [
    "```css\n",
    "div#rise-overlay, div#rise-header, div#rise-footer{\n",
    "    z-index: 20;\n",
    "}\n",
    "```"
   ]
  },
  {
   "cell_type": "markdown",
   "metadata": {
    "slideshow": {
     "slide_type": "slide"
    },
    "tags": []
   },
   "source": [
    "# Slide 1"
   ]
  },
  {
   "cell_type": "markdown",
   "metadata": {
    "tags": []
   },
   "source": [
    "Here we have defined `header`, `footer` and `backimage` - [see also the customization doc](https://rise.readthedocs.io/en/latest/customize.html#header-footer-and-backimage)."
   ]
  },
  {
   "cell_type": "markdown",
   "metadata": {
    "slideshow": {
     "slide_type": "slide"
    },
    "tags": []
   },
   "source": [
    "# Slide 2"
   ]
  },
  {
   "cell_type": "markdown",
   "metadata": {},
   "source": [
    "See [config option overlay](https://rise.readthedocs.io/en/latest/customize.html#overlay) for a short description of how to use `overlay` instead. "
   ]
  }
 ],
 "metadata": {
  "celltoolbar": "Slideshow",
  "jupytext": {
   "formats": "ipynb"
  },
  "kernelspec": {
   "display_name": "Python 3 (ipykernel)",
   "language": "python",
   "name": "python3"
  },
  "language_info": {
   "codemirror_mode": {
    "name": "ipython",
    "version": 3
   },
   "file_extension": ".py",
   "mimetype": "text/x-python",
   "name": "python",
   "nbconvert_exporter": "python",
   "pygments_lexer": "ipython3",
   "version": "3.10.4"
  },
  "rise": {
   "enable_chalkboard": true,
   "footer": "<h3>World!</h3>",
   "header": "<h2>Hello</h2>",
   "scroll": true,
   "start_slideshow_at": "beginning",
   "theme": "black",
   "transition": "slide"
  }
 },
 "nbformat": 4,
 "nbformat_minor": 4
}
